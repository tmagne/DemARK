{
 "cells": [
  {
   "cell_type": "code",
   "execution_count": null,
   "metadata": {
    "code_folding": [
     0
    ],
    "collapsed": true
   },
   "outputs": [],
   "source": [
    "# Initial imports and notebook setup, click arrow to show\n",
    "import sys \n",
    "import os\n",
    "\n",
    "from Demos.ConsumptionSaving.ConsIndShockModel import *\n",
    "import Demos.ConsumptionSaving.ConsumerParameters as Params\n",
    "from HARK.utilities import plotFuncsDer, plotFuncs\n",
    "from time import clock\n",
    "mystr = lambda number : \"{:.4f}\".format(number)"
   ]
  },
  {
   "cell_type": "markdown",
   "metadata": {},
   "source": [
    "Classes to solve canonical consumption-savings models with idiosyncratic shocks to income.  All models here assume CRRA utility with geometric discounting, no\n",
    "bequest motive, and income shocks are fully transitory or fully permanent.\n",
    " \n",
    "It currently solves three types of models:\n",
    "1. A very basic \"perfect foresight\" consumption-savings model with no uncertainty.\n",
    "2. A consumption-savings model with risk over transitory and permanent income shocks.\n",
    "3. The model described in (2), with an interest rate for debt that differs from the interest rate for savings.\n",
    "\n",
    "See NARK for information on variable naming conventions.\n",
    "See HARK documentation for mathematical descriptions of the models being solved. *TODO: Add the documentation here*"
   ]
  },
  {
   "cell_type": "markdown",
   "metadata": {},
   "source": [
    "## Perfect Foresight Consumer"
   ]
  },
  {
   "cell_type": "code",
   "execution_count": null,
   "metadata": {},
   "outputs": [],
   "source": [
    "PFexample = PerfForesightConsumerType(**Params.init_perfect_foresight)   \n",
    "PFexample.cycles = 0 # Make this type have an infinite horizon\n",
    "\n",
    "start_time = clock()\n",
    "PFexample.solve()\n",
    "end_time = clock()\n",
    "print('Solving a perfect foresight consumer took ' + mystr(end_time-start_time) + ' seconds.')\n",
    "PFexample.unpackcFunc()\n",
    "PFexample.timeFwd()\n",
    "\n",
    "# Plot the perfect foresight consumption function\n",
    "print('Linear consumption function:')\n",
    "mMin = PFexample.solution[0].mNrmMin\n",
    "plotFuncs(PFexample.cFunc[0],mMin,mMin+10)\n",
    "\n",
    "PFexample.T_sim = 120 # Set number of simulation periods\n",
    "PFexample.track_vars = ['mNrmNow']\n",
    "PFexample.initializeSim()\n",
    "PFexample.simulate()"
   ]
  },
  {
   "cell_type": "markdown",
   "metadata": {},
   "source": [
    "## Consumer with idiosyncratic income shocks"
   ]
  },
  {
   "cell_type": "code",
   "execution_count": null,
   "metadata": {},
   "outputs": [],
   "source": [
    "IndShockExample = IndShockConsumerType(**Params.init_idiosyncratic_shocks)\n",
    "IndShockExample.cycles = 0 # Make this type have an infinite horizon\n",
    "\n",
    "start_time = clock()\n",
    "IndShockExample.solve()\n",
    "end_time = clock()\n",
    "print('Solving a consumer with idiosyncratic shocks took ' + mystr(end_time-start_time) + ' seconds.')\n",
    "IndShockExample.unpackcFunc()\n",
    "IndShockExample.timeFwd()\n",
    "\n",
    "# Plot the consumption function and MPC for the infinite horizon consumer\n",
    "print('Concave consumption function:')\n",
    "plotFuncs(IndShockExample.cFunc[0],IndShockExample.solution[0].mNrmMin,5)\n",
    "print('Marginal consumption function:')\n",
    "plotFuncsDer(IndShockExample.cFunc[0],IndShockExample.solution[0].mNrmMin,5)\n",
    "\n",
    "# Compare the consumption functions for the perfect foresight and idiosyncratic\n",
    "# shock types.  Risky income cFunc asymptotically approaches perfect foresight cFunc.\n",
    "print('Consumption functions for perfect foresight vs idiosyncratic shocks:')            \n",
    "plotFuncs([PFexample.cFunc[0],IndShockExample.cFunc[0]],IndShockExample.solution[0].mNrmMin,100)\n",
    "\n",
    "# Compare the value functions for the two types\n",
    "if IndShockExample.vFuncBool:\n",
    "    print('Value functions for perfect foresight vs idiosyncratic shocks:')\n",
    "    plotFuncs([PFexample.solution[0].vFunc,IndShockExample.solution[0].vFunc],\n",
    "                  IndShockExample.solution[0].mNrmMin+0.5,10)\n",
    "\n",
    "# Simulate some data; results stored in mNrmNow_hist, cNrmNow_hist, and pLvlNow_hist\n",
    "IndShockExample.T_sim = 120\n",
    "IndShockExample.track_vars = ['mNrmNow','cNrmNow','pLvlNow']\n",
    "IndShockExample.makeShockHistory() # This is optional, simulation will draw shocks on the fly if it isn't run.\n",
    "IndShockExample.initializeSim()\n",
    "IndShockExample.simulate()\n"
   ]
  },
  {
   "cell_type": "markdown",
   "metadata": {},
   "source": [
    "## Idiosyncratic shocks consumer with a finite lifecycle"
   ]
  },
  {
   "cell_type": "code",
   "execution_count": null,
   "metadata": {},
   "outputs": [],
   "source": [
    "LifecycleExample = IndShockConsumerType(**Params.init_lifecycle)\n",
    "LifecycleExample.cycles = 1 # Make this consumer live a sequence of periods exactly once\n",
    "\n",
    "start_time = clock()\n",
    "LifecycleExample.solve()\n",
    "end_time = clock()\n",
    "print('Solving a lifecycle consumer took ' + mystr(end_time-start_time) + ' seconds.')\n",
    "LifecycleExample.unpackcFunc()\n",
    "LifecycleExample.timeFwd()\n",
    "\n",
    "# Plot the consumption functions during working life\n",
    "print('Consumption functions while working:')\n",
    "mMin = min([LifecycleExample.solution[t].mNrmMin for t in range(LifecycleExample.T_cycle)])\n",
    "plotFuncs(LifecycleExample.cFunc[:LifecycleExample.T_retire],mMin,5)\n",
    "\n",
    "# Plot the consumption functions during retirement\n",
    "print('Consumption functions while retired:')\n",
    "plotFuncs(LifecycleExample.cFunc[LifecycleExample.T_retire:],0,5)\n",
    "LifecycleExample.timeRev()\n",
    "\n",
    "# Simulate some data; results stored in mNrmNow_hist, cNrmNow_hist, pLvlNow_hist, and t_age_hist\n",
    "LifecycleExample.T_sim = 120\n",
    "LifecycleExample.track_vars = ['mNrmNow','cNrmNow','pLvlNow','t_age']\n",
    "LifecycleExample.initializeSim()\n",
    "LifecycleExample.simulate()"
   ]
  },
  {
   "cell_type": "markdown",
   "metadata": {},
   "source": [
    "## \"Cyclical\" consumer type \n",
    "Make and solve a \"cyclical\" consumer type who lives the same four quarters repeatedly.\n",
    "The consumer has income that greatly fluctuates throughout the year."
   ]
  },
  {
   "cell_type": "code",
   "execution_count": null,
   "metadata": {},
   "outputs": [],
   "source": [
    "CyclicalExample = IndShockConsumerType(**Params.init_cyclical)\n",
    "CyclicalExample.cycles = 0\n",
    "\n",
    "start_time = clock()\n",
    "CyclicalExample.solve()\n",
    "end_time = clock()\n",
    "print('Solving a cyclical consumer took ' + mystr(end_time-start_time) + ' seconds.')\n",
    "CyclicalExample.unpackcFunc()\n",
    "CyclicalExample.timeFwd()\n",
    "\n",
    "# Plot the consumption functions for the cyclical consumer type\n",
    "print('Quarterly consumption functions:')\n",
    "mMin = min([X.mNrmMin for X in CyclicalExample.solution])\n",
    "plotFuncs(CyclicalExample.cFunc,mMin,5)\n",
    "\n",
    "# Simulate some data; results stored in cHist, mHist, bHist, aHist, MPChist, and pHist\n",
    "CyclicalExample.T_sim = 480\n",
    "CyclicalExample.track_vars = ['mNrmNow','cNrmNow','pLvlNow','t_cycle']\n",
    "CyclicalExample.initializeSim()\n",
    "CyclicalExample.simulate()"
   ]
  },
  {
   "cell_type": "markdown",
   "metadata": {},
   "source": [
    "## Agent with a kinky interest rate"
   ]
  },
  {
   "cell_type": "code",
   "execution_count": null,
   "metadata": {},
   "outputs": [],
   "source": [
    "KinkyExample = KinkedRconsumerType(**Params.init_kinked_R)\n",
    "KinkyExample.cycles = 0 # Make the Example infinite horizon\n",
    "\n",
    "start_time = clock()\n",
    "KinkyExample.solve()\n",
    "end_time = clock()\n",
    "print('Solving a kinky consumer took ' + mystr(end_time-start_time) + ' seconds.')\n",
    "KinkyExample.unpackcFunc()\n",
    "print('Kinky consumption function:')\n",
    "KinkyExample.timeFwd()\n",
    "plotFuncs(KinkyExample.cFunc[0],KinkyExample.solution[0].mNrmMin,5)\n",
    "\n",
    "KinkyExample.T_sim = 120\n",
    "KinkyExample.track_vars = ['mNrmNow','cNrmNow','pLvlNow']\n",
    "KinkyExample.initializeSim()\n",
    "KinkyExample.simulate()"
   ]
  }
 ],
 "metadata": {
  "kernelspec": {
   "display_name": "Python 2",
   "language": "python",
   "name": "python2"
  },
  "language_info": {
   "codemirror_mode": {
    "name": "ipython",
    "version": 2
   },
   "file_extension": ".py",
   "mimetype": "text/x-python",
   "name": "python",
   "nbconvert_exporter": "python",
   "pygments_lexer": "ipython2",
   "version": "2.7.13"
  }
 },
 "nbformat": 4,
 "nbformat_minor": 2
}
