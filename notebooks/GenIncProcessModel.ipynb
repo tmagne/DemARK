{
 "cells": [
  {
   "cell_type": "markdown",
   "metadata": {},
   "source": [
    "# ConsGenIncProcessModel.py\n"
   ]
  },
  {
   "cell_type": "code",
   "execution_count": null,
   "metadata": {
    "code_folding": []
   },
   "outputs": [],
   "source": [
    "# Initial imports and notebook setup\n",
    "%matplotlib inline\n",
    "import matplotlib.pyplot as plt\n",
    "\n",
    "import sys\n",
    "import os\n",
    "from copy import copy\n",
    "\n",
    "\n",
    "from HARK.ConsumptionSaving.ConsGenIncProcessModel import *\n",
    "import HARK.ConsumptionSaving.ConsumerParameters as Params\n",
    "\n",
    "from HARK.utilities import plotFuncs"
   ]
  },
  {
   "cell_type": "markdown",
   "metadata": {},
   "source": [
    "This module contains models to solve consumption-saving models with idiosyncratic shocks to income in which shocks are not necessarily fully transitory nor fully permanent. Moreover, next period's expected permanent or persistent income level $p_{t+1}$ is not necessarily a linear function of $p_t$.  That is, this module contains models that extends $\\texttt{ConsIndShockModel}$ by **generalizing the income process**.  As a result, the models in this module explicitly track persistent income $p_t$ as a state variable, rather than normalizing it out as in $\\texttt{ConsIndShockModel}$.\n",
    "\n",
    "This module currently includes three models:\n",
    "1. A model with a generic, unspecified persistent income transition rule.\n",
    "2. A model that specifies the persistent income rule in model (1) as a linear function, with fully permanent shocks.\n",
    "3. A model that specifies the persistent income rule in model (1) as an AR(1) in logs."
   ]
  },
  {
   "cell_type": "markdown",
   "metadata": {},
   "source": [
    "## GenIncProcessConsumerType\n",
    "\n",
    "This model allows consumers to have a generic function $G_{t+1}$ that translates current persistent income $p_t$ into expected next period persistent income $p_{t+1}$.  The user can specify any function $G$ that s/he wants.  The default behavior is that a new instance of $\\texttt{GenIncProcessConsumerType}$ has **no** dynamics in persistent income: $G_{t+1}(p_t) = p_t$.  Any non-trivial income dynamics must be specified by hand by the user, or constructed by a method in a subclass of $\\texttt{GenIncProcessConsumerType}$ (see below).\n",
    "\n",
    "\n",
    "The agent's problem can be written in Bellman form as:\n",
    "\n",
    "\\begin{eqnarray*}\n",
    "v_t(M_t,p_t) &=& \\max_{C_t} U(C_t) + \\beta (1-\\mathsf{D}_{t+1}) \\mathbb{E} [v_{t+1}(M_{t+1}, p_{t+1}) ], \\\\\n",
    "A_t &=& M_t - C_t, \\\\\n",
    "A_t &\\geq& \\underline{a} p_t, \\\\\n",
    "M_{t+1} &=& R A_t + \\theta_{t+1}, \\\\\n",
    "p_{t+1} &=& G_{t+1}(p_t)\\psi_{t+1}, \\\\\n",
    "\\psi_{t+1},\\theta_{t+1} \\sim F_{\\psi \\theta,t+1}, &\\qquad& \\mathbb{E} [F_{\\psi t}] = 1, \\\\\n",
    "U(C) &=& \\frac{C^{1-\\rho}}{1-\\rho}.\n",
    "\\end{eqnarray*}"
   ]
  },
  {
   "cell_type": "markdown",
   "metadata": {},
   "source": [
    "The one period problem for this model is solved by the function $\\texttt{solveConsGenIncProcess}$, which creates an instance of the class $\\texttt{ConsGenIncProcessSolver}$. The class $\\texttt{GenIncProcessConsumerType}$ extends $\\texttt{IndShockConsumerType}$ to represents agents in this model. To construct an instance of this class, several  parameters must be passed to the constructor as shown in the table below (parameters can be either \"primitive\" if they are directly specified by the user or \"constructed\" if they are built by a class method using simple parameters specified by the user)."
   ]
  },
  {
   "cell_type": "markdown",
   "metadata": {},
   "source": [
    "### Example parameter values to solve an instance of GenIncProcessConsumerType\n",
    "\n",
    "| Param | Description | Code | Value | Constructed |\n",
    "| :---: | --- | --- | --- | :---: |\n",
    "| $\\beta$ |Intertemporal discount factor  | $\\texttt{DiscFac}$ | 0.96 | |\n",
    "| $\\rho $ |Coefficient of relative risk aversion | $\\texttt{CRRA}$ | 2.0 | |\n",
    "| $R $ | Risk free interest factor | $\\texttt{Rfree}$ | 1.03 | |\n",
    "| $1 - \\mathsf{D}$ |Survival probability | $\\texttt{LivPrb}$ | [0.98] | |\n",
    "| $\\underline{a} $ |Artificial borrowing constraint, as asset-to-persistent income ratio | $\\texttt{BoroCnstArt}$ | 0.0 | | \n",
    "| $(none) $ |Indicator of whether $\\texttt{vFunc}$ should be computed | $\\texttt{vFuncBool}$ | 'True' | |\n",
    "| $(none)$ |Indicator of whether $\\texttt{cFunc}$ should use cubic lines | $\\texttt{CubicBool}$ | 'False' |  |\n",
    "|$F $ |A list containing three arrays of floats, representing a discrete <br> approximation to the income process: <br>event probabilities, persistent shocks, transitory shocks | $\\texttt{IncomeDstn}$ | - |$\\surd$ |\n",
    "| $G$ |Expected persistent income next period as a function of current persistent income | $\\texttt{pLvlNextFunc}$ | - | $\\surd$ |\n",
    "| $ (none) $ |Grid of persistent income levels | $\\texttt{pLvlGrid}$ | - |$\\surd$ |\n",
    "| $ (none) $ | Grid of end-of-period assets above minimum | $\\texttt{aXtraGrid}$ | - |$\\surd$ |"
   ]
  },
  {
   "cell_type": "markdown",
   "metadata": {},
   "source": [
    "### Constructed inputs to solve GenIncProcess\n",
    "The \"constructed\" inputs are automatically built when a new instance is created, using the class methods described below.  Each method expects certain parameters to have been passed to the class constructor method (and thus assigned as attributes of this instance), usually as an entry in a dictionary.  These methods are described below.\n",
    "\n",
    "\n",
    "* The input $\\texttt{IncomeDstn}$ is created by the method $\\texttt{updateIncomeProcess}$ which inherits from $\\texttt{IndShockConsumerType}$. (*hyperlink to that noteboook*)\n",
    "\n",
    "\n",
    "* The input $\\texttt{pLvlNextFunc}$ is created by the method $\\texttt{updatepLvlNextFunc}$, which simply creates a trivial $\\texttt{pLvlNextFunc}$ attribute with no persistent income dynamics.  This method can be overwritten by subclasses in order to make, e.g., an AR(1) income process. \n",
    "\n",
    "\n",
    "* The input $\\texttt{pLvlGrid}$ is created by the method $\\texttt{updatepLvlGrid}$, which updates the grid of persistent income levels for infinite horizon models ($\\texttt{cycles}$=0) and lifecycle models ($\\texttt{cycles}$=1). This model (and its children) cannot handle $\\texttt{cycles}$>1 because the distribution of persistent income will be different within a period depending on how many cycles have elapsed. This method uses a simulation approach to generate the $\\texttt{pLvlGrid}$ at each period of the cycle. It draws on the initial distribution of persistent income, the $\\texttt{pLvlNextFunc}$, which is defined by its $\\texttt{pLvlInitMean}$ and its $\\texttt{pLvlInitStd}$, and the percentiles of the $\\texttt{pLvl}$ distribution, the $\\texttt{pLvlPctiles}$ attribute. \n",
    "\n",
    "### To simulate the distribution of persistent income levels at each period of the lifecycle\n",
    "\n",
    "| Param | Description | Type | Value|\n",
    "| :---: | --- | --- | --- | :---: |\n",
    "|$\\texttt{AgentCount}$|Number of agents of this type for the simulation|int|10000|\n",
    "|$\\texttt{pLvlInitMean}$|Initial mean (log) persistent income|float|0.0|\n",
    "|$\\texttt{pLvlInitStd}$|Initial standard deviation (log) persistent income|float|0.0|\n",
    "|$\\texttt{PermShkDstn}$|Distribution of permanent shocks, with a lognormal mean of 1 and<br> standard deviation $\\texttt{PermShkStd}$ equal to [0.1]|[np.array]||\n",
    "|$\\texttt{PermShkStd}$||float|[0.1]||\n",
    "\n",
    "\n",
    "* The input $\\texttt{aXtraGrid}$ is created by the method $\\texttt{updateAssetsGrid}$ which inherits from $\\texttt{IndShockConsumerType}$.\n"
   ]
  },
  {
   "cell_type": "code",
   "execution_count": null,
   "metadata": {
    "code_folding": [
     0,
     1
    ]
   },
   "outputs": [],
   "source": [
    "# This cell defines a dictionary to make an instance of a \"generalized income process\" consumer.\n",
    "GenIncDictionary = { \n",
    "    \"CRRA\": 2.0,                           # Coefficient of relative risk aversion\n",
    "    \"Rfree\": 1.03,                         # Interest factor on assets\n",
    "    \"DiscFac\": 0.96,                       # Intertemporal discount factor\n",
    "    \"LivPrb\" : [0.98],                     #.… Survival probability\n",
    "    \"AgentCount\" : 10000,                  # Number of agents of this type (only matters for simulation)\n",
    "    \"aNrmInitMean\" : 0.0,                  # Mean of log initial assets (only matters for simulation)\n",
    "    \"aNrmInitStd\"  : 1.0,                  # Standard deviation of log initial assets (only for simulation)\n",
    "    \"pLvlInitMean\" : 0.0,                  # Mean of log initial permanent income (only matters for simulation)\n",
    "    \"pLvlInitStd\"  : 0.0,                  # Standard deviation of log initial permanent income (only matters for simulation)\n",
    "    \"PermGroFacAgg\" : 1.0,                 # Aggregate permanent income growth factor (only matters for simulation)\n",
    "    \"T_age\" : None,                        # Age after which simulated agents are automatically killed\n",
    "    \"T_cycle\" : 1,                         # Number of periods in the cycle for this agent type\n",
    "# Parameters for constructing the \"assets above minimum\" grid\n",
    "    \"aXtraMin\" : 0.001,                    # Minimum end-of-period \"assets above minimum\" value\n",
    "    \"aXtraMax\" : 30,                       # Maximum end-of-period \"assets above minimum\" value               \n",
    "    \"aXtraExtra\" : [0.005,0.01],           # Some other value of \"assets above minimum\" to add to the grid\n",
    "    \"aXtraNestFac\" : 3,                    # Exponential nesting factor when constructing \"assets above minimum\" grid\n",
    "    \"aXtraCount\" : 48,                     # Number of points in the grid of \"assets above minimum\"\n",
    "# Parameters describing the income process\n",
    "    \"PermShkCount\" : 7,                    # Number of points in discrete approximation to permanent income shocks\n",
    "    \"TranShkCount\" : 7,                    # Number of points in discrete approximation to transitory income shocks\n",
    "    \"PermShkStd\" : [0.1],                  # Standard deviation of log permanent income shocks\n",
    "    \"TranShkStd\" : [0.1],                  # Standard deviation of log transitory income shocks\n",
    "    \"UnempPrb\" : 0.05,                     # Probability of unemployment while working\n",
    "    \"UnempPrbRet\" : 0.005,                 # Probability of \"unemployment\" while retired\n",
    "    \"IncUnemp\" : 0.3,                      # Unemployment benefits replacement rate\n",
    "    \"IncUnempRet\" : 0.0,                   # \"Unemployment\" benefits when retired\n",
    "    \"tax_rate\" : 0.0,                      # Flat income tax rate\n",
    "    \"T_retire\" : 0,                        # Period of retirement (0 --> no retirement)\n",
    "    \"BoroCnstArt\" : 0.0,                  # Artificial borrowing constraint; imposed minimum level of end-of period assets\n",
    "    \"CubicBool\" : False,                  # Use cubic spline interpolation when True, linear interpolation when False\n",
    "    \"vFuncBool\" : True,                   # Whether to calculate the value function during solution   \n",
    "    \"cycles\": 0,\n",
    "    \"PermGroFac\" : [0.0],                  # Permanent income growth factor - not a list but should be as it is in 'time_vary'\n",
    "    \"pLvlPctiles\" : np.concatenate(([0.001, 0.005, 0.01, 0.03], np.linspace(0.05, 0.95, num=19),[0.97, 0.99, 0.995, 0.999])),\n",
    "}"
   ]
  },
  {
   "cell_type": "code",
   "execution_count": null,
   "metadata": {},
   "outputs": [],
   "source": [
    "# Make and solve an example \"explicit permanent income\" consumer\n",
    "GenIncExample = GenIncProcessConsumerType(**GenIncDictionary)\n",
    "GenIncExample.solve()"
   ]
  },
  {
   "cell_type": "code",
   "execution_count": null,
   "metadata": {
    "code_folding": [
     0
    ]
   },
   "outputs": [],
   "source": [
    "# Plot the consumption function\n",
    "print('Consumption function by pLvl for generalized income consumer:')\n",
    "pLvlGrid = GenIncExample.pLvlGrid[0]\n",
    "mLvlGrid = np.linspace(0,20,300)\n",
    "for p in pLvlGrid:\n",
    "    M_temp = mLvlGrid + GenIncExample.solution[0].mLvlMin(p)\n",
    "    C = GenIncExample.solution[0].cFunc(M_temp,p*np.ones_like(M_temp))\n",
    "    plt.plot(M_temp,C)\n",
    "plt.xlim(0.,20.)\n",
    "plt.xlabel('Market resource level mLvl')\n",
    "plt.ylabel('Consumption level cLvl')\n",
    "plt.show()"
   ]
  },
  {
   "cell_type": "markdown",
   "metadata": {},
   "source": [
    "## ExplicitPermIncConsumerType\n",
    "\n",
    "While $\\texttt{ConsGenIndShockModel}$ leaves persistent income dynamics completely unspecified, and the user *could* choose any function s/he wants, some special cases have been pre-specified as subclasses of $\\texttt{GenIncProcessConsumerType}$.  Most simply, we could have a *linear* representation of persistent income dynamics.  The model for an $\\texttt{IndShockExplicitPermIncConsumerType}$ is mathematically equivalent to the one for an $\\texttt{IndShockConsumerType}$, except for its solver **explicitly** tracking permanent income as a state variable.\n",
    "\n",
    "The agent's problem can be written in Bellman form as:\n",
    "\n",
    "\\begin{eqnarray*}\n",
    "v_t(M_t,p_t) &=& \\max_{C_t} U(C_t) + \\beta (1-\\mathsf{D}_{t+1}) \\mathbb{E} [v_{t+1}(M_{t+1}, p_{t+1}) ], \\\\\n",
    "A_t &=& M_t - C_t, \\\\\n",
    "A_t &\\geq& \\underline{a}, \\\\\n",
    "M_{t+1} &=& R A_t + \\theta_{t+1}, \\\\\n",
    "p_{t+1} &=& G_{t+1}(p_t)\\psi_{t+1}, \\qquad G_{t+1}(p_t) = \\Gamma_{t+1} p_t, \\\\\n",
    "\\psi_{t+1},\\theta_{t+1} \\sim F_{t+1}, &\\qquad& \\mathbb{E} [F_{\\psi t}] = 1, \\\\\n",
    "U(C) &=& \\frac{C^{1-\\rho}}{1-\\rho}.\n",
    "\\end{eqnarray*}"
   ]
  },
  {
   "cell_type": "markdown",
   "metadata": {},
   "source": [
    "This agent type is identical to an $\\texttt{IndShockConsumerType}$ but for explicitly tracking $\\texttt{pLvl}$ as a state variable during solution as shown in the mathematical representation of $\\texttt{ConsGenIndShockModel}$. The only modeling difference from $\\texttt{ConsGenIndShockModel}$ model is that the G function has been specified as *linear* -- a permanent income growth factor.\n",
    "\n",
    "To construct $\\texttt{IndShockExplicitPermIncConsumerType}$ as an instance of $\\texttt{GenIncProcessConsumerType}$, we need to pass additional parameters to the constructor as shown in the table below."
   ]
  },
  {
   "cell_type": "markdown",
   "metadata": {},
   "source": [
    "### Additional parameters to solve IndShockExplicitPermIncConsumerType\n",
    "\n",
    "| Param | Description | Code | Value | Constructed |\n",
    "| :---: | --- | --- | --- | :---: |\n",
    "|(none)|percentiles of the distribution of persistent income|$\\texttt{pLvlPctiles}$|||\n",
    "| $G$ |Expected persistent income next period as a function of current persistent income | $\\texttt{pLvlNextFunc}$ | - | $\\surd$ |\n",
    "|$\\Gamma $|Permanent income growth factor|$\\texttt{PermGroFac}$|[1.0]| |\n",
    "\n",
    "\n",
    "### Constructed inputs to solve ExplicitPermInc\n",
    "\n",
    "* In this model, the method $\\texttt{updatepLvlNextFunc}$ can be overwritten to create $\\texttt{pLvlNextFunc}$ as a sequence of linear functions, indicating constant expected permanent income growth across permanent income levels.  This method uses the attribute $\\texttt{PermGroFac}$, and installs a special retirement function when it exists."
   ]
  },
  {
   "cell_type": "code",
   "execution_count": null,
   "metadata": {
    "code_folding": [
     0
    ]
   },
   "outputs": [],
   "source": [
    "# This cell defines a dictionary to make an instance of \"explicit permanent income\" consumer.\n",
    "ExplicitPermIncDictionary = { \n",
    "    \"CRRA\": 2.0,                           # Coefficient of relative risk aversion\n",
    "    \"Rfree\": 1.03,                         # Interest factor on assets\n",
    "    \"DiscFac\": 0.96,                       # Intertemporal discount factor\n",
    "    \"LivPrb\" : [0.98],                     #.… Survival probability\n",
    "    \"AgentCount\" : 10000,                  # Number of agents of this type (only matters for simulation)\n",
    "    \"aNrmInitMean\" : 0.0,                  # Mean of log initial assets (only matters for simulation)\n",
    "    \"aNrmInitStd\"  : 1.0,                  # Standard deviation of log initial assets (only for simulation)\n",
    "    \"pLvlInitMean\" : 0.0,                  # Mean of log initial permanent income (only matters for simulation)\n",
    "    \"pLvlInitStd\"  : 0.0,                  # Standard deviation of log initial permanent income (only matters for simulation)\n",
    "    \"PermGroFacAgg\" : 1.0,                 # Aggregate permanent income growth factor (only matters for simulation)\n",
    "    \"T_age\" : None,                        # Age after which simulated agents are automatically killed\n",
    "    \"T_cycle\" : 1,                         # Number of periods in the cycle for this agent type\n",
    "# Parameters for constructing the \"assets above minimum\" grid\n",
    "    \"aXtraMin\" : 0.001,                    # Minimum end-of-period \"assets above minimum\" value\n",
    "    \"aXtraMax\" : 30,                       # Maximum end-of-period \"assets above minimum\" value               \n",
    "    \"aXtraExtra\" : [0.005,0.01],           # Some other value of \"assets above minimum\" to add to the grid\n",
    "    \"aXtraNestFac\" : 3,                    # Exponential nesting factor when constructing \"assets above minimum\" grid\n",
    "    \"aXtraCount\" : 48,                     # Number of points in the grid of \"assets above minimum\"\n",
    "# Parameters describing the income process\n",
    "    \"PermShkCount\" : 7,                    # Number of points in discrete approximation to permanent income shocks\n",
    "    \"TranShkCount\" : 7,                    # Number of points in discrete approximation to transitory income shocks\n",
    "    \"PermShkStd\" : [0.1],                  # Standard deviation of log permanent income shocks\n",
    "    \"TranShkStd\" : [0.1],                  # Standard deviation of log transitory income shocks\n",
    "    \"UnempPrb\" : 0.05,                     # Probability of unemployment while working\n",
    "    \"UnempPrbRet\" : 0.005,                 # Probability of \"unemployment\" while retired\n",
    "    \"IncUnemp\" : 0.3,                      # Unemployment benefits replacement rate\n",
    "    \"IncUnempRet\" : 0.0,                   # \"Unemployment\" benefits when retired\n",
    "    \"tax_rate\" : 0.0,                      # Flat income tax rate\n",
    "    \"T_retire\" : 0,                        # Period of retirement (0 --> no retirement)\n",
    "    \"BoroCnstArt\" : 0.0,                  # Artificial borrowing constraint; imposed minimum level of end-of period assets\n",
    "    \"CubicBool\" : False,                  # Use cubic spline interpolation when True, linear interpolation when False\n",
    "    \"vFuncBool\" : True,                   # Whether to calculate the value function during solution    \n",
    "# More parameters specific to \"Explicit Permanent income\" shock model\n",
    "    \"cycles\": 0,\n",
    "    \"pLvlPctiles\" : np.concatenate(([0.001, 0.005, 0.01, 0.03], np.linspace(0.05, 0.95, num=19),[0.97, 0.99, 0.995, 0.999])),\n",
    "    \"PermGroFac\" : [1.0],                  # Permanent income growth factor - long run permanent income growth doesn't work yet    \n",
    "}"
   ]
  },
  {
   "cell_type": "markdown",
   "metadata": {},
   "source": [
    "We can now create an instance of the type of consumer we are interested in and solve this agent's problem with an infinite horizon (cycles=0)."
   ]
  },
  {
   "cell_type": "code",
   "execution_count": null,
   "metadata": {
    "code_folding": [
     0
    ]
   },
   "outputs": [],
   "source": [
    "# Make and solve an example of \"explicit permanent income\" consumer with idiosyncratic shocks\n",
    "ExplicitExample = IndShockExplicitPermIncConsumerType(**ExplicitPermIncDictionary)\n",
    "                                        \n",
    "print('Here, the lowest percentile is ' + str(ExplicitPermIncDictionary['pLvlPctiles'][0]*100))\n",
    "print('and the highest percentile is ' + str(ExplicitPermIncDictionary['pLvlPctiles'][-1]*100) + '.\\n')\n",
    "      \n",
    "ExplicitExample.solve()\n"
   ]
  },
  {
   "cell_type": "markdown",
   "metadata": {},
   "source": [
    "In the cell below, we generate a plot of the consumption function for an $\\texttt{IndShockExplicitPermIncConsumerType}$ at different income levels."
   ]
  },
  {
   "cell_type": "code",
   "execution_count": null,
   "metadata": {
    "code_folding": [
     0,
     4
    ]
   },
   "outputs": [],
   "source": [
    "# Plot the consumption function at various permanent income levels.\n",
    "print('Consumption function by pLvl for explicit permanent income consumer:')\n",
    "pLvlGrid = ExplicitExample.pLvlGrid[0]\n",
    "mLvlGrid = np.linspace(0,20,300)\n",
    "for p in pLvlGrid:\n",
    "    M_temp = mLvlGrid + ExplicitExample.solution[0].mLvlMin(p)\n",
    "    C = ExplicitExample.solution[0].cFunc(M_temp,p*np.ones_like(M_temp))\n",
    "    plt.plot(M_temp,C)\n",
    "plt.xlim(0.,20.)\n",
    "plt.xlabel('Market resource level mLvl')\n",
    "plt.ylabel('Consumption level cLvl')\n",
    "plt.show()"
   ]
  },
  {
   "cell_type": "markdown",
   "metadata": {
    "collapsed": true
   },
   "source": [
    "## Permanent income normalized\n",
    "\n",
    "We can compare the model for an $\\texttt{IndShockExplicitPermIncConsumerType}$ with an alternative one, in which permanent income is normalized out as in $\\texttt{ConsIndShockModel}$. That is, variables such as $M_t$, $C_t$ and $A_t$ are divided by permanent income $p_t$ and we can solve the model as follows."
   ]
  },
  {
   "cell_type": "code",
   "execution_count": null,
   "metadata": {
    "code_folding": []
   },
   "outputs": [],
   "source": [
    "# Make and solve an example of normalized model\n",
    "NormalizedExample = IndShockConsumerType(**ExplicitPermIncDictionary)\n",
    "NormalizedExample.solve()"
   ]
  },
  {
   "cell_type": "code",
   "execution_count": null,
   "metadata": {
    "code_folding": [
     0
    ]
   },
   "outputs": [],
   "source": [
    "# Compare the normalized problem with and without explicit permanent income and plot the consumption functions\n",
    "print('Normalized consumption function by pLvl for explicit permanent income consumer:')\n",
    "pLvlGrid = ExplicitExample.pLvlGrid[0]\n",
    "mNrmGrid = np.linspace(0,20,300)\n",
    "for p in pLvlGrid:\n",
    "    M_temp = mNrmGrid*p + ExplicitExample.solution[0].mLvlMin(p)\n",
    "    C = ExplicitExample.solution[0].cFunc(M_temp,p*np.ones_like(M_temp))\n",
    "    plt.plot(M_temp/p,C/p)\n",
    "\n",
    "plt.xlim(0.,20.)\n",
    "plt.xlabel('Normalized market resources mNrm')\n",
    "plt.ylabel('Normalized consumption cNrm')\n",
    "plt.show()\n",
    "\n",
    "print('Consumption function for normalized problem (without explicit permanent income):')\n",
    "mNrmMin = NormalizedExample.solution[0].mNrmMin\n",
    "plotFuncs(NormalizedExample.solution[0].cFunc,mNrmMin,mNrmMin+20.)"
   ]
  },
  {
   "cell_type": "markdown",
   "metadata": {
    "collapsed": true
   },
   "source": [
    "The two figures above show that the normalized consumption function for the \"explicit permanent income\" consumer is almost identical for every permanent income level (and is the same as the normalized problem's $\\texttt{cFunc}$), but is less accurate due to extrapolation outside the bounds of $\\texttt{pLvlGrid}$. \n",
    "\n",
    "The \"explicit permanent income\" solution deviates from the solution to the normalized problem because of errors from extrapolating beyond the bounds of the $\\texttt{pLvlGrid}$. The error is largest for $\\texttt{pLvl}$ values near the upper and lower bounds, and propagates toward the center of the distribution."
   ]
  },
  {
   "cell_type": "code",
   "execution_count": null,
   "metadata": {
    "code_folding": [
     0
    ]
   },
   "outputs": [],
   "source": [
    "# Plot the value function at various permanent income levels\n",
    "if ExplicitExample.vFuncBool:\n",
    "    pGrid = np.linspace(0.1,3.0,24)\n",
    "    M = np.linspace(0.001,5,300)\n",
    "    for p in pGrid:\n",
    "        M_temp = M+ExplicitExample.solution[0].mLvlMin(p)\n",
    "        C = ExplicitExample.solution[0].vFunc(M_temp,p*np.ones_like(M_temp))\n",
    "        plt.plot(M_temp,C)\n",
    "    plt.ylim([-200,0])\n",
    "    plt.xlabel('Market resource level mLvl')\n",
    "    plt.ylabel('Value v')\n",
    "    plt.show()"
   ]
  },
  {
   "cell_type": "code",
   "execution_count": null,
   "metadata": {
    "code_folding": [
     0
    ]
   },
   "outputs": [],
   "source": [
    "# Simulate many periods to get to the stationary distribution\n",
    "ExplicitExample.T_sim = 500\n",
    "ExplicitExample.track_vars = ['mLvlNow','cLvlNow','pLvlNow']\n",
    "ExplicitExample.initializeSim()\n",
    "ExplicitExample.simulate()\n",
    "plt.plot(np.mean(ExplicitExample.mLvlNow_hist,axis=1))\n",
    "plt.xlabel('Simulated time period')\n",
    "plt.ylabel('Average market resources mLvl')\n",
    "plt.show()\n"
   ]
  },
  {
   "cell_type": "markdown",
   "metadata": {
    "collapsed": true
   },
   "source": [
    "## 2. Persistent income shock consumer\n",
    "\n",
    "\n",
    "Finally, we can extends $\\texttt{ConsGenIndShockModel}$ by allowing the (log) persistent income to follow an AR(1) process with correlation coefficient $\\varphi$. The model for a $\\texttt{PersistentShockConsumerType}$ is mathematically equivalent to the one for an $\\texttt{IndShockConsumerType}$, except for its solver **explicitly** tracking permanent income as a state variable, and having an **AR(1)** income process rather than random walk.\n",
    "\n",
    "\n",
    "The agent's problem can be written in Bellman form as:\n",
    "\n",
    "\\begin{eqnarray*}\n",
    "v_t(M_t,p_t) &=& \\max_{C_t} U(C_t) + \\beta (1-\\mathsf{D}_{t+1}) \\mathbb{E} [v_{t+1}(M_{t+1}, p_{t+1}) ], \\\\\n",
    "A_t &=& M_t - C_t, \\\\\n",
    "A_t &\\geq& \\underline{a}, \\\\\n",
    "M_{t+1} &=& R A_t + \\theta_{t+1}, \\\\\n",
    "log(p_{t+1}) &=& \\varphi log(p_t)+(1-\\varphi)log(\\overline{p}_{t+1} ) +log(\\Gamma_{t+1})+log(\\psi_{t+1}), \\\\\n",
    "\\psi_{t+1},\\theta_{t+1} \\sim F_{t+1}, &\\qquad& \\mathbb{E} [F_{\\psi t}] = 1 \\\\\n",
    "\\end{eqnarray*}"
   ]
  },
  {
   "cell_type": "markdown",
   "metadata": {},
   "source": [
    "### Additional parameters to solve PersistentShock model\n",
    "\n",
    "| Param | Description | Code | Value | Constructed |\n",
    "| :---: | --- | --- | --- | :---: |\n",
    "|$\\varphi$|Serial correlation coefficient for persistent income|$\\texttt{PrstIncCorr}$|0.98||\n",
    "|$\\Gamma $|Permanent income growth factor|$\\texttt{PermGroFac}$|[1.0]| |\n",
    "|log ($\\overline{p}_{t+1}$)|Weighted average of (log) persistent income shocks|$\\texttt{pLogMean}$|-||\n",
    "|(none)|Expected persistent income next period as a function of current persistent income | $\\texttt{pLvlNextFunc}$ | - | $\\surd$ |\n",
    "\n",
    "### Constructed inputs to solve PersistentShock\n",
    "\n",
    "* For this model, the method $\\texttt{updatepLvlNextFunc}$ can be overwritten to create the input $\\texttt{pLvlNextFunc}$ as a sequence of AR(1)-style functions. The method create a list of $\\texttt{pLvlNextFunc}$ by creating an object of an instance of the class $\\texttt{pLvlFuncAR1}$ which takes for arguments $\\texttt{pLogMean}$, $\\texttt{PermGroFac}$ and $\\texttt{PrstIncCorr}$. "
   ]
  },
  {
   "cell_type": "markdown",
   "metadata": {},
   "source": [
    "We can create a dictionary for a $\\texttt{PersistentShockConsumerType}$ as a copy of $\\texttt{IndShockExplicitPermIncConsumerType}$ and add the parameter $\\texttt{PrstIncCorr}$ to it to specify the AR(1) income process. "
   ]
  },
  {
   "cell_type": "code",
   "execution_count": null,
   "metadata": {
    "code_folding": []
   },
   "outputs": [],
   "source": [
    "# This cell defines a dictionary to make an instance of \"persistent idiosyncratic shocks\" consumer\n",
    "PrstIncCorr = 0.98       # Serial correlation coefficient for persistent income\n",
    "persistent_shocks = copy(ExplicitPermIncDictionary)\n",
    "persistent_shocks['PrstIncCorr'] = PrstIncCorr"
   ]
  },
  {
   "cell_type": "code",
   "execution_count": null,
   "metadata": {
    "code_folding": []
   },
   "outputs": [],
   "source": [
    "# Make and solve an example of \"persistent idiosyncratic shocks\" consumer\n",
    "PersistentExample = PersistentShockConsumerType(**persistent_shocks)\n",
    "PersistentExample.solve()"
   ]
  },
  {
   "cell_type": "code",
   "execution_count": null,
   "metadata": {
    "code_folding": [
     0
    ]
   },
   "outputs": [],
   "source": [
    "# Plot the consumption function at various levels of persistent income pLvl\n",
    "print('Consumption function by persistent income level pLvl for a consumer with AR1 coefficient of ' + str(PersistentExample.PrstIncCorr) + ':')\n",
    "pLvlGrid = PersistentExample.pLvlGrid[0]\n",
    "mLvlGrid = np.linspace(0,20,300)\n",
    "for p in pLvlGrid:\n",
    "    M_temp = mLvlGrid + PersistentExample.solution[0].mLvlMin(p)\n",
    "    C = PersistentExample.solution[0].cFunc(M_temp,p*np.ones_like(M_temp))\n",
    "    plt.plot(M_temp,C)\n",
    "plt.xlim(0.,20.)\n",
    "plt.xlabel('Market resource level mLvl')\n",
    "plt.ylabel('Consumption level cLvl')\n",
    "plt.show()"
   ]
  },
  {
   "cell_type": "code",
   "execution_count": null,
   "metadata": {},
   "outputs": [],
   "source": [
    "# Plot the value function at various persistent income levels\n",
    "if PersistentExample.vFuncBool:\n",
    "    pGrid = PersistentExample.pLvlGrid[0]\n",
    "    M = np.linspace(0.001,5,300)\n",
    "    for p in pGrid:\n",
    "        M_temp = M+PersistentExample.solution[0].mLvlMin(p)\n",
    "        C = PersistentExample.solution[0].vFunc(M_temp,p*np.ones_like(M_temp))\n",
    "        plt.plot(M_temp,C)\n",
    "    plt.ylim([-200,0])\n",
    "    plt.xlabel('Market resource level mLvl')\n",
    "    plt.ylabel('Value v')\n",
    "    plt.show()"
   ]
  },
  {
   "cell_type": "code",
   "execution_count": null,
   "metadata": {},
   "outputs": [],
   "source": [
    "# Simulate some data\n",
    "PersistentExample.T_sim = 500\n",
    "PersistentExample.track_vars = ['mLvlNow','cLvlNow','pLvlNow']\n",
    "PersistentExample.initializeSim()\n",
    "PersistentExample.simulate()\n",
    "plt.plot(np.mean(PersistentExample.mLvlNow_hist,axis=1))\n",
    "plt.xlabel('Simulated time period')\n",
    "plt.ylabel('Average market resources mLvl')\n",
    "plt.show()"
   ]
  }
 ],
 "metadata": {
  "kernelspec": {
   "display_name": "Python 2",
   "language": "python",
   "name": "python2"
  },
  "language_info": {
   "codemirror_mode": {
    "name": "ipython",
    "version": 2
   },
   "file_extension": ".py",
   "mimetype": "text/x-python",
   "name": "python",
   "nbconvert_exporter": "python",
   "pygments_lexer": "ipython2",
   "version": "2.7.13"
  }
 },
 "nbformat": 4,
 "nbformat_minor": 2
}
