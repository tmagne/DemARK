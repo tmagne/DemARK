{
 "cells": [
  {
   "cell_type": "code",
   "execution_count": null,
   "metadata": {},
   "outputs": [],
   "source": [
    "# Initial imports and notebook setup, click arrow to show\n",
    "import sys \n",
    "import os\n",
    "\n",
    "from HARK.ConsumptionSaving.ConsAggShockModel import *\n",
    "from HARK.utilities import plotFuncsDer, plotFuncs\n",
    "import matplotlib.pyplot as plt"
   ]
  },
  {
   "cell_type": "markdown",
   "metadata": {},
   "source": [
    "This module contains one model to solve a consumption-saving model in which an agent have CRRA preferences over consumption who discounts future utility flows and expects to experience permanent and transitory shocks to his/her income. \n",
    "The agent faces idiosyncratic and aggregate productivity shocks to income. That is, s/he believes that the market to which his/her supply (a fixed amount of) labor will experience **aggregate** permanent and transitory shocks to the effective productivity of labor. \n",
    "\n",
    "Also, the wage rate in the market is the marginal product of labor in the aggregate production function, and the interest factor is one plus the (net) marginal product of capital. \n",
    "One can assume that the ratio of aggregate capital-to-labor is a sufficient statistic for these marginal products. \n",
    "\n",
    "Further, the agent believes that the capital-to-labor ratio evolves as a function of its current value. "
   ]
  },
  {
   "cell_type": "markdown",
   "metadata": {},
   "source": [
    "### Idiosyncratic and Aggregate Shocks to Income\n",
    "\n",
    "The agent's problem can be written in (normalized) Bellman form as:\n",
    "\n",
    "\\begin{eqnarray*}\n",
    "v_t(m_t,k_t) &=& \\max_{c_t} u(c_t) + \\beta (1-\\mathsf{D}_{t+1}) \\mathbb{E} [(\\Gamma_{t+1}\\psi_{t+1})^{1-\\rho} v_{t+1}(m_{t+1}, k_{t+1}) ], \\\\\n",
    "a_t &=& m_t - c_t, \\\\\n",
    "a_t &\\geq& 0, \\\\\n",
    "m_{t+1} &=& R_{t+1}/(\\Gamma_{t+1}\\psi_{t+1}\\Psi_{t+1}) a_t + W_{t+1}\\theta_{t+1}, \\\\\n",
    "R_{t+1} &=& \\mathbf{R}(k_{t+1}/\\Theta_{t+1}),  W_{t+1}= \\mathbf{W}(k_{t+1}/\\Theta_{t+1}), \\\\\n",
    "k_{t+1} &=& \\mathbf{k}(k_{t}),\\\\\n",
    "\\psi_{t} \\sim F_{\\psi_{t}},&& \\quad \\theta_{t} \\sim F_{\\theta_{t}},\\quad \\mathbb{E} [F_{\\psi t}] = 1, \\\\\n",
    "\\Psi_{t} \\sim F_{\\Psi_{t}},&& \\quad \\Theta_{t} \\sim F_{\\Theta_{t}},\\quad \\mathbb{E} [F_{\\Psi t}] = \\mathbb{E}[F_{\\Theta t}]=1, \\\\\n",
    "u(c) &=& \\frac{c^{1-\\rho}}{1-\\rho}\n",
    "\\end{eqnarray*}"
   ]
  },
  {
   "cell_type": "markdown",
   "metadata": {},
   "source": [
    "The objects **R**(.) and **W**(.) are functions of the effective capital-to-labor ratio that generate the (net) interest factor and wage rate, respectively. These are determined by the aggregate production function and the degree of capital depreciation. \n",
    "\n",
    "The $k(.)$ function represents the agent's belifs about the evolution of the capital-to-labor ratio $k_{t}$.\n",
    "As with iodiosyncratic shocks, there is an aggregate shock process $(F_{\\Theta},F_{\\Psi})$."
   ]
  },
  {
   "cell_type": "markdown",
   "metadata": {},
   "source": [
    "The one period problem of this model is solved by the function $\\texttt{solveConsAggShock}$, the default value of $\\texttt{solveOnePeriod}$ for$\\texttt{AggShockConsumerType}$.\n",
    "The class $\\texttt{AggShockConsumerType}$ extends $\\texttt{IndShockConsumerType}$ to represents agents in this model.\n",
    "To construct an instance of this class, similar parameters to the ones for $\\texttt{IndShockConsumerType}$ must be passed to the constructor. However, several attributes have been *removed*: \n",
    "- $\\texttt{Rfree}$ is endogenous, \n",
    "- $\\texttt{CubicBool}$, $\\texttt{vFuncBool}$, and $\\texttt{BoroCnstArt}$ are not yet supported in this model.\n",
    "\n",
    "The only **new** attribute is $\\texttt{kGridBase}$, an array of scaling factor for the (perfect foresight equivalent) steady state capital ratio. It is used to construct $\\texttt{kGrid}$, a direct input for $\\texttt{solveConsAggShock}$."
   ]
  },
  {
   "cell_type": "code",
   "execution_count": null,
   "metadata": {
    "code_folding": [
     1
    ]
   },
   "outputs": [],
   "source": [
    "# This cell defines a dictionary to make an instance of an \"aggregate shocks\" consumer.\n",
    "AggShocksDict={\n",
    "    \"CRRA\": 2.0,                           # Coefficient of relative risk aversion\n",
    "    \"Rfree\": 1.03,                         # Interest factor on assets\n",
    "    \"DiscFac\": 0.96,                       # Default intertemporal discount factor\n",
    "    \"LivPrb\" : [0.98],                     # Survival probability\n",
    "    \"AgentCount\" : 10000,                  # Number of agents of this type (only matters for simulation)\n",
    "    \"PermGroFac\" :[1.0],                  # Permanent income growth factor   \n",
    "\n",
    "    # Parameters for constructing the \"assets above minimum\" grid\n",
    "    \"aNrmInitMean\" : 0.0,                  # Mean of log initial assets (only matters for simulation)\n",
    "    \"aNrmInitStd\"  : 0.0,                  # Standard deviation of log initial assets (only for simulation)\n",
    "    \"pLvlInitMean\" : 0.0,                  # Mean of log initial permanent income (only matters for simulation)\n",
    "    \"pLvlInitStd\"  : 0.0,                  # Standard deviation of log initial permanent income (only matters for simulation)\n",
    "    #\"PermGroFacAgg\" : 1.0,              # Aggregate permanent income growth factor (only matters for simulation)\n",
    "    \"T_age\" : None,                        # Age after which simulated agents are automatically killed\n",
    "    \"T_cycle\" : 1,                         # Number of periods in the cycle for this agent type\n",
    "    \"aXtraMin\" : 0.001,                    # Minimum end-of-period \"assets above minimum\" value\n",
    "    \"aXtraMax\" : 20,                       # Maximum end-of-period \"assets above minimum\" value               \n",
    "    \"aXtraExtra\" : [None],                   # Some other value of \"assets above minimum\" to add to the grid\n",
    "    \"aXtraNestFac\" : 3,                    # Exponential nesting factor when constructing \"assets above minimum\" grid\n",
    "    \"aXtraCount\" : 24,                     # Number of points in the grid of \"assets above minimum\"\n",
    "    \n",
    "    # Parameters describing the income process\n",
    "    \"PermShkCount\" : 7,                    # Number of points in discrete approximation to permanent income shocks\n",
    "    \"TranShkCount\" : 7,                    # Number of points in discrete approximation to transitory income shocks\n",
    "    \"PermShkStd\" : [0.1],                  # Standard deviation of log permanent shocks to income\n",
    "    \"TranShkStd\" : [0.1],                  # Standard deviation of log transitory shocks to income\n",
    "    \"UnempPrb\" : 0.05,                     # Probability of unemployment while working\n",
    "    \"UnempPrbRet\" : 0.005,                 # Probability of \"unemployment\" while retired\n",
    "    \"IncUnemp\" : 0.3,                      # Unemployment benefits replacement rate\n",
    "    \"IncUnempRet\" : 0.0,                   # \"Unemployment\" benefits when retired\n",
    "    \"tax_rate\" : 0.0,                      # Flat income tax rate\n",
    "    \"T_retire\" : 0,                        # Period of retirement (0 --> no retirement)\n",
    "    \n",
    "    # A few other paramaters\n",
    "    \"BoroCnstArt\" : 0.0,                   # Artificial borrowing constraint; imposed minimum level of end-of period assets\n",
    "    \"CubicBool\" : False,                   # Preference shocks currently only compatible with linear cFunc\n",
    "    \"vFuncBool\" : False,                    # Whether to calculate the value function during solution \n",
    "    \n",
    "    \"MgridBase\" : np.array([0.1,0.3,0.6,0.8,0.9,0.98,1.0,1.02,1.1,1.2,1.6,2.0,3.0]),  # Grid of capital-to-labor-ratios (factors)\n",
    "}\n",
    "del AggShocksDict['Rfree']         # Interest factor is endogenous in agg shocks model\n",
    "del AggShocksDict['CubicBool']     # Not supported yet for agg shocks model\n",
    "del AggShocksDict['vFuncBool']     # Not supported yet for agg shocks model"
   ]
  },
  {
   "cell_type": "code",
   "execution_count": null,
   "metadata": {},
   "outputs": [],
   "source": [
    "# Make an example of an \"aggregate shocks\"consumer\n",
    "AggShockExample = AggShockConsumerType(**AggShocksDict)\n",
    "AggShockExample.cycles = 0 # Make this type have an infinite horizon"
   ]
  },
  {
   "cell_type": "code",
   "execution_count": null,
   "metadata": {},
   "outputs": [],
   "source": [
    "# Solve the microeconomic model for the aggregate shocks example type\n",
    "AggShockExample.solve()\n",
    "AggShockExample.unpackcFunc()"
   ]
  },
  {
   "cell_type": "code",
   "execution_count": null,
   "metadata": {},
   "outputs": [],
   "source": [
    "# Plot the results\n",
    "print('Consumption function at each aggregate market resources-to-labor ratio gridpoint:')\n",
    "m_grid = np.linspace(0,10,200)\n",
    "for M in AggShockExample.Mgrid.tolist():\n",
    "    mMin = AggShockExample.solution[0].mNrmMin(M)\n",
    "    c_at_this_M = AggShockExample.cFunc[0](m_grid+mMin,M*np.ones_like(m_grid))\n",
    "    plt.plot(m_grid+mMin,c_at_this_M)\n",
    "plt.show()"
   ]
  },
  {
   "cell_type": "markdown",
   "metadata": {},
   "source": [
    "### Cobb-Douglas Economy\n",
    "\n",
    "A model with “aggregate shocks” only makes sense if there is some market-level object that experiences these shocks. The $\\texttt{CobbDouglasEconomy}$ class extends $\\texttt{Market}$ to represent an economy with a Cobb-Douglas production function over aggregate capital and aggregate labor and permanent and transitory shocks to labor productivity.\n",
    "\n",
    "The basic model for the Cobb-Douglas economy is:\n",
    "\\begin{eqnarray*}\n",
    "Y &=& K^{\\alpha}L^{1-\\alpha}, \\quad k \\equiv K/L \\\\\n",
    "W = \\frac{\\delta Y}{\\delta L} &=& (1-\\alpha)K^{\\alpha}L^{-\\alpha} = (1-\\alpha)k^{\\alpha}\\\\\n",
    "r  = \\frac{\\delta Y}{\\delta K} &=& \\alpha K^{\\alpha-1}L^{1-\\alpha} = \\alpha k^{\\alpha-1}\\\\\n",
    "R &=& 1+ r - \\delta\\\\\n",
    "\\end{eqnarray*}"
   ]
  },
  {
   "cell_type": "markdown",
   "metadata": {},
   "source": [
    "### Parameters to solve CobbDouglasEconomy\n",
    "\n",
    "A new instance of $\\texttt{CobbDouglasEconomy}$ must have attributes listed in the table below. \n",
    "\n",
    "The constructor for the class uses these attributes to calculate the perfect foresight steady state of the capital-to-labor ratio, wage rate, and interest rate; the interest and wage functions; a discretization of the aggregate shock process, and an initial guess of the next- capital-ratio function. \n",
    "\n",
    "Following [Krusell and Smith (1998)](https://www.journals.uchicago.edu/doi/pdf/10.1086/250034), we assume that the log of next period’s capital ratio is a linear function of the log of this period’s capital ratio."
   ]
  },
  {
   "cell_type": "markdown",
   "metadata": {},
   "source": [
    "### Example parameter values to solve an instance of CobbDouglasEconomy\n",
    "\n",
    "| Param | Description | Code | Value | Constructed |\n",
    "| :---: | --- | --- | --- | :---: |\n",
    "| $\\alpha$ |Capital's share of output  | $\\texttt{CapShare}$ | 0.36 | |\n",
    "| $\\delta$ |Capital's depreciation rate  | $\\texttt{DeprFac}$ | 0.025 | |\n",
    "| $\\sigma_\\theta $ | Standard deviation of log transitory agg shock distribution | $\\texttt{TranShkAggStd}$ | - |$\\surd$ |\n",
    "| $ \\sigma_\\psi $ | Standard deviation of log permanent agg shock distribution  | $\\texttt{PermShkaggStd}$ | - |$\\surd$ |\n",
    "| $ N_{\\theta} $ | Number of discrete values in transitory agg shock distribution  | $\\texttt{TranShkAggCount}$  | 3 | \n",
    "| $ N_{\\psi} $ | Number of discrete values in permanent agg shock distribution  | $\\texttt{PermShkAggCount}$  | 3 | \n",
    "| $\\beta ^{PF}$ |Perfect foresight intertemporal discount factor  | $\\texttt{DiscFac}$ | 0.96 | |\n",
    "| $\\rho ^{PF} $ |Perfect foresight coefficient of relative risk aversion | $\\texttt{CRRA}$ | 2.0 | |"
   ]
  },
  {
   "cell_type": "code",
   "execution_count": null,
   "metadata": {
    "code_folding": [
     1
    ]
   },
   "outputs": [],
   "source": [
    "# This cell defines a dictionary to make an instance of a \"Cobb-Douglas\" consumer.\n",
    "CobbDouglasDict={\n",
    "    'PermShkAggCount': 3,           # Number of points in discrete approximation to aggregate permanent shock dist\n",
    "    'TranShkAggCount': 3,           # Number of points in discrete approximation to aggregate transitory shock dist\n",
    "    'PermShkAggStd': 0.0063,        # Standard deviation of log aggregate permanent shocks\n",
    "    'TranShkAggStd': 0.0031,        # Standard deviation of log aggregate transitory shocks\n",
    "    'DeprFac': 0.025,               # Capital depreciation rate\n",
    "    'CapShare': 0.36,               # Capital's share of income\n",
    "    'DiscFac': 0.96,                # Discount factor of perfect foresight calibration\n",
    "    'CRRA': 2.0,                    # Coefficient of relative risk aversion of perfect foresight calibration\n",
    "    'PermGroFacAgg': 1.0,           # Aggregate permanent income growth factor (only matters for simulation)\n",
    "    'AggregateL':1.0,\n",
    "    'act_T':1200,\n",
    "    'intercept_prev': 0.0,          # Intercept of aggregate savings function\n",
    "    'slope_prev': 1.0,              # Slope of aggregate savings function      \n",
    "}"
   ]
  },
  {
   "cell_type": "code",
   "execution_count": null,
   "metadata": {},
   "outputs": [],
   "source": [
    "# Make a Cobb-Douglas economy for the agents\n",
    "EconomyExample = CobbDouglasEconomy(agents = [AggShockExample],**CobbDouglasDict)\n",
    "EconomyExample.makeAggShkHist() # Simulate a history of aggregate shocks"
   ]
  },
  {
   "cell_type": "code",
   "execution_count": null,
   "metadata": {},
   "outputs": [],
   "source": [
    "# Have the consumers inherit relevant objects from the economy\n",
    "AggShockExample.getEconomyData(EconomyExample)"
   ]
  },
  {
   "cell_type": "markdown",
   "metadata": {},
   "source": [
    "We can solve for the equilibrium of a Cobb-Douglas economy. This might take a few minutes..."
   ]
  },
  {
   "cell_type": "code",
   "execution_count": null,
   "metadata": {},
   "outputs": [],
   "source": [
    "# Solve the \"macroeconomic\" model by searching for a \"fixed point dynamic rule\"\n",
    "EconomyExample.solve()"
   ]
  },
  {
   "cell_type": "code",
   "execution_count": null,
   "metadata": {},
   "outputs": [],
   "source": [
    "print('Aggregate savings as a function of aggregate market resources:')\n",
    "plotFuncs(EconomyExample.AFunc,0,2*EconomyExample.kSS)\n",
    "\n",
    "print('Consumption function at each aggregate market resources gridpoint (in general equilibrium):')\n",
    "AggShockExample.unpackcFunc()\n",
    "m_grid = np.linspace(0,10,200)\n",
    "AggShockExample.unpackcFunc()\n",
    "for M in AggShockExample.Mgrid.tolist():\n",
    "    mMin = AggShockExample.solution[0].mNrmMin(M)\n",
    "    c_at_this_M = AggShockExample.cFunc[0](m_grid+mMin,M*np.ones_like(m_grid))\n",
    "    plt.plot(m_grid+mMin,c_at_this_M)\n",
    "plt.show()"
   ]
  }
 ],
 "metadata": {
  "kernelspec": {
   "display_name": "Python 2",
   "language": "python",
   "name": "python2"
  },
  "language_info": {
   "codemirror_mode": {
    "name": "ipython",
    "version": 2
   },
   "file_extension": ".py",
   "mimetype": "text/x-python",
   "name": "python",
   "nbconvert_exporter": "python",
   "pygments_lexer": "ipython2",
   "version": "2.7.13"
  }
 },
 "nbformat": 4,
 "nbformat_minor": 2
}
