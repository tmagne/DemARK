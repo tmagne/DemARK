{
 "cells": [
  {
   "cell_type": "code",
   "execution_count": null,
   "metadata": {
    "scrolled": false
   },
   "outputs": [],
   "source": [
    "# Initial imports and notebook setup, click arrow to show\n",
    "\n",
    "import HARK.ConsumptionSaving.ConsIndShockModel as Model        # The consumption-saving micro model\n",
    "import HARK.SolvingMicroDSOPs.EstimationParameters as Params    # Parameters for the consumer type and the estimation\n",
    "from HARK.utilities import plotFuncsDer, plotFuncs\n"
   ]
  },
  {
   "cell_type": "code",
   "execution_count": null,
   "metadata": {},
   "outputs": [],
   "source": [
    "# Set up default values for CRRA, DiscFac, and simulation variables in the dictionary \n",
    "Params.init_consumer_objects[\"CRRA\"]= 2.00            # Default coefficient of relative risk aversion (rho)\n",
    "Params.init_consumer_objects[\"DiscFac\"]= 0.97         # Default intertemporal discount factor (beta)\n",
    "Params.init_consumer_objects[\"PermGroFacAgg\"]= 1.0    # Aggregate permanent income growth factor \n",
    "Params.init_consumer_objects[\"aNrmInitMean\"]= -10.0   # Mean of log initial assets \n",
    "Params.init_consumer_objects[\"aNrmInitStd\"]= 1.0      # Standard deviation of log initial assets\n",
    "Params.init_consumer_objects[\"pLvlInitMean\"]= 0.0     # Mean of log initial permanent income \n",
    "Params.init_consumer_objects[\"pLvlInitStd\"]= 0.0      # Standard deviation of log initial permanent income"
   ]
  },
  {
   "cell_type": "code",
   "execution_count": null,
   "metadata": {},
   "outputs": [],
   "source": [
    "# Make a lifecycle consumer to be used for estimation\n",
    "ThisType = Model.IndShockConsumerType(**Params.init_consumer_objects)"
   ]
  },
  {
   "cell_type": "code",
   "execution_count": null,
   "metadata": {
    "scrolled": true
   },
   "outputs": [],
   "source": [
    "# Solve and simulate the model\n",
    "ThisType.solve()\n",
    "ThisType.unpackcFunc()\n",
    "\n",
    "ThisType.T_sim = 120\n",
    "ThisType.initializeSim()\n",
    "ThisType.simulate()"
   ]
  },
  {
   "cell_type": "code",
   "execution_count": null,
   "metadata": {},
   "outputs": [],
   "source": [
    "# Plot the consumption functions during working life\n",
    "print('Consumption functions while working:')\n",
    "mMin = min([ThisType.solution[t].mNrmMin for t in range(ThisType.T_cycle)])\n",
    "plotFuncs(ThisType.cFunc[:ThisType.T_retire],mMin,5)"
   ]
  }
 ],
 "metadata": {
  "kernelspec": {
   "display_name": "Python 2",
   "language": "python",
   "name": "python2"
  },
  "language_info": {
   "codemirror_mode": {
    "name": "ipython",
    "version": 2
   },
   "file_extension": ".py",
   "mimetype": "text/x-python",
   "name": "python",
   "nbconvert_exporter": "python",
   "pygments_lexer": "ipython2",
   "version": "2.7.13"
  }
 },
 "nbformat": 4,
 "nbformat_minor": 2
}
