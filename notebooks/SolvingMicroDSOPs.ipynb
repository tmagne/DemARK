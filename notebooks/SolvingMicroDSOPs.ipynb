{
 "cells": [
  {
   "cell_type": "markdown",
   "metadata": {},
   "source": [
    "This module contains a model to solve microeconomic dynamic stochastic optimization problem, as described in Section 9 of Chris Carroll's SolvingMicroDSOPs.pdf notes. \n",
    "\n",
    "The model tries to match the age-conditional wealth profile of simulated consumers to the median wealth holdings of seven age groups in the 2004 SCF by varying only two parameters: the coefficient of relative risk aversion and a scaling factor for an age-varying sequence of discount factors.\n",
    "\n",
    "The model uses a consumption-saving model with idiosyncratic shocks to permanent and transitory\n",
    "income as defined in $\\texttt{ConsIndShockModel}$."
   ]
  },
  {
   "cell_type": "code",
   "execution_count": null,
   "metadata": {
    "scrolled": false
   },
   "outputs": [],
   "source": [
    "# Initial imports and notebook setup, click arrow to show\n",
    "%matplotlib inline\n",
    "import matplotlib.pyplot as plt\n",
    "\n",
    "import HARK.ConsumptionSaving.ConsIndShockModel as Model # The consumption-saving micro model\n",
    "import HARK.SolvingMicroDSOPs.SetupSCFdata as Data                               # SCF 2004 data on household wealth\n",
    "import HARK.SolvingMicroDSOPs.EstimationParameters as Params           # Parameters for the consumer type and the estimation\n",
    "from HARK.utilities import plotFuncsDer, plotFuncs\n",
    "\n",
    "from HARK.simulation import drawDiscrete         # Method for sampling from a discrete distribution\n",
    "from HARK.estimation import minimizeNelderMead, bootstrapSampleFromData # Estimation methods"
   ]
  },
  {
   "cell_type": "code",
   "execution_count": null,
   "metadata": {},
   "outputs": [],
   "source": [
    "# Set up default values for CRRA and DiscFac\n",
    "Params.init_consumer_objects[\"CRRA\"]= 2.00            # Default coefficient of relative risk aversion (rho)\n",
    "Params.init_consumer_objects[\"DiscFac\"]= 0.97         # Default intertemporal discount factor (beta)\n",
    "Params.init_consumer_objects[\"PermGroFacAgg\"]= 1.0    # Aggregate permanent income growth factor (only matters for simulation)\n",
    "Params.init_consumer_objects[\"aNrmInitMean\"]= 0.0\n",
    "Params.init_consumer_objects[\"aNrmInitStd\"]= 1.0\n",
    "Params.init_consumer_objects[\"pLvlInitMean\"]= 0.0\n",
    "Params.init_consumer_objects[\"pLvlInitStd\"]= 0.0"
   ]
  },
  {
   "cell_type": "code",
   "execution_count": null,
   "metadata": {},
   "outputs": [],
   "source": [
    "# Make a lifecycle consumer to be used for estimation\n",
    "ThisType = Model.IndShockConsumerType(**Params.init_consumer_objects)"
   ]
  },
  {
   "cell_type": "code",
   "execution_count": null,
   "metadata": {
    "scrolled": true
   },
   "outputs": [],
   "source": [
    "# Solve and simulate the model\n",
    "ThisType.solve()\n",
    "ThisType.unpackcFunc()\n",
    "\n",
    "ThisType.T_sim = 120\n",
    "#ThisType.track_vars = ['mNrmNow','cNrmNow','pLvlNow','t_age']\n",
    "ThisType.initializeSim()\n",
    "ThisType.simulate()"
   ]
  },
  {
   "cell_type": "code",
   "execution_count": null,
   "metadata": {},
   "outputs": [],
   "source": [
    "# Plot the consumption functions during working life\n",
    "print('Consumption functions while working:')\n",
    "mMin = min([ThisType.solution[t].mNrmMin for t in range(ThisType.T_cycle)])\n",
    "plotFuncs(ThisType.cFunc[:ThisType.T_retire],mMin,5)"
   ]
  }
 ],
 "metadata": {
  "kernelspec": {
   "display_name": "Python 2",
   "language": "python",
   "name": "python2"
  },
  "language_info": {
   "codemirror_mode": {
    "name": "ipython",
    "version": 2
   },
   "file_extension": ".py",
   "mimetype": "text/x-python",
   "name": "python",
   "nbconvert_exporter": "python",
   "pygments_lexer": "ipython2",
   "version": "2.7.13"
  }
 },
 "nbformat": 4,
 "nbformat_minor": 2
}
